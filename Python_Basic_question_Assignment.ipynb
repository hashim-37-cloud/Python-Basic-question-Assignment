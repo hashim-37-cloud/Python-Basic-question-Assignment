{
  "nbformat": 4,
  "nbformat_minor": 0,
  "metadata": {
    "colab": {
      "provenance": []
    },
    "kernelspec": {
      "name": "python3",
      "display_name": "Python 3"
    },
    "language_info": {
      "name": "python"
    }
  },
  "cells": [
    {
      "cell_type": "markdown",
      "source": [
        "* Python Basic Theory"
      ],
      "metadata": {
        "id": "ajPffkao1dZd"
      }
    },
    {
      "cell_type": "markdown",
      "source": [
        "1. What is Python, and why is it popular?\n",
        "\n",
        "Ans: Python is a high-level, interpreted programming language known for its readability and ease of use. It supports multiple programming paradigms, including procedural, object-oriented, and functional programming. Python's simplicity and extensive libraries make it popular for a variety of tasks, from web development and data analysis to machine learning and automation."
      ],
      "metadata": {
        "id": "QfBO6ihu3rTk"
      }
    },
    {
      "cell_type": "markdown",
      "source": [
        "2. What is an interpreter in Python?\n",
        "\n",
        "Ans:An interpreter is a program that executes Python code line-by-line, converting it into machine code that the computer can execute. Unlike compiled languages, which translate the entire code into machine code before execution, Python’s interpreter processes the code as it runs, making Python easier to test and debug."
      ],
      "metadata": {
        "id": "vX31OBYA6e-J"
      }
    },
    {
      "cell_type": "markdown",
      "source": [
        "3. What are pre-defined keywords in Python?\n",
        "\n",
        "Ans: Pre-defined keywords in Python are reserved words that have special meaning and functionality in the language. These keywords cannot be used as variable names or identifiers. Examples include if, else, for, while, class, try, return, etc."
      ],
      "metadata": {
        "id": "JYFEGdW86mcp"
      }
    },
    {
      "cell_type": "markdown",
      "source": [
        "4. Can keywords be used as variable names?\n",
        "\n",
        "Ans: No, Python keywords cannot be used as variable names. These keywords have special meanings in Python and are reserved for specific operations within the language."
      ],
      "metadata": {
        "id": "eZXaPDiv6rgc"
      }
    },
    {
      "cell_type": "markdown",
      "source": [
        "5. What is mutability in Python?\n",
        "\n",
        "Ans: Mutability refers to the ability of an object to be changed after it is created. In Python, mutable objects can have their content changed, while immutable objects cannot. For example, lists are mutable, meaning you can change their elements, while strings are immutable, so their content cannot be modified once created."
      ],
      "metadata": {
        "id": "Ybtudpoa6u8t"
      }
    },
    {
      "cell_type": "markdown",
      "source": [
        "6. Why are lists mutable, but tuples are immutable?\n",
        "\n",
        "Ans:  Lists are mutable because they are designed for dynamic data manipulation, allowing you to add, remove, or modify their elements. Tuples, on the other hand, are immutable because they are intended to be used as fixed, unchanging collections of data, which makes them more memory-efficient and faster in certain use cases."
      ],
      "metadata": {
        "id": "OSugnUDb6zZL"
      }
    },
    {
      "cell_type": "markdown",
      "source": [
        "7. What is the difference between “==” and “is” operators in Python?\n",
        "\n",
        "\n",
        "Ans: In Python, both == and is are comparison operators, but they are used for different purposes:\n",
        "\n",
        "1. == (Equality Operator):\n",
        "Purpose: Compares the values of two objects to see if they are equal.\n",
        "Behavior: It checks whether the contents of the two objects are the same, meaning the data they store are equal.\n",
        "Example:\n",
        "\n",
        "python\n",
        "Copy\n",
        "a = [1, 2, 3]\n",
        "b = [1, 2, 3]\n",
        "print(a == b)  # Output: True\n",
        "Here, a and b have the same values, so a == b returns True.\n",
        "\n",
        "2. is (Identity Operator):\n",
        "Purpose: Compares the identities of two objects to see if they refer to the same object in memory.\n",
        "Behavior: It checks whether both variables point to the same object in memory, not whether their values are equal.\n",
        "Example:\n",
        "\n",
        "python\n",
        "Copy\n",
        "a = [1, 2, 3]\n",
        "b = [1, 2, 3]\n",
        "print(a is b)  # Output: False\n",
        "Here, a and b have the same values but are stored in different memory locations, so a is b returns False.\n",
        "\n",
        "Key Differences:\n",
        "==: Checks if the values are equal.\n",
        "is: Checks if the objects are the same (i.e., they share the same memory address).\n",
        "When to Use:\n",
        "Use == when you want to compare values.\n",
        "Use is when you want to check if two variables refer to the exact same object, such as when checking if two variables are None:\n",
        "python\n",
        "Copy\n",
        "x = None\n",
        "print(x is None)  # True\n",
        "Let me know if you need more clarification or examples!\n",
        "\n",
        "\n",
        "\n"
      ],
      "metadata": {
        "id": "lxBjf3VVVscn"
      }
    },
    {
      "cell_type": "markdown",
      "source": [
        "8. What are logical operators in Python?\n",
        "\n",
        "Ans: In Python, logical operators are used to perform logical operations on boolean values (True or False). These operators allow you to combine multiple conditions or boolean expressions.\n",
        "\n",
        "Here are the three main logical operators in Python:\n",
        "\n",
        "1. and\n",
        "Purpose: Returns True if both conditions are True. Otherwise, it returns False.\n",
        "Syntax: condition1 and condition2\n",
        "Example:\n",
        "\n",
        "\n",
        "x = 10\n",
        "y = 5\n",
        "print(x > 5 and y < 10)  # Output: True (both conditions are true)\n",
        "2. or\n",
        "Purpose: Returns True if at least one of the conditions is True. If both are False, it returns False.\n",
        "Syntax: condition1 or condition2\n",
        "Example:\n",
        "\n",
        "\n",
        "x = 10\n",
        "y = 5\n",
        "print(x < 5 or y < 10)  # Output: True (y < 10 is true)\n",
        "3. not\n",
        "Purpose: Reverses (negates) the boolean value of the condition. If the condition is True, not makes it False, and vice versa.\n",
        "Syntax: not condition\n",
        "Example:\n",
        "\n",
        "\n",
        "x = 10\n",
        "print(not (x < 5))  # Output: True (since x < 5 is False, not flips it to True)\n",
        "Examples:\n",
        "python\n",
        "Copy\n",
        "x = 5\n",
        "y = 10\n",
        "z = 15\n",
        "\n",
        "# Using 'and'\n",
        "print(x < y and y < z)  # True (both conditions are true)\n",
        "\n",
        "# Using 'or'\n",
        "print(x > y or y < z)  # True (y < z is true)\n",
        "\n",
        "# Using 'not'\n",
        "print(not (x == 5))  # False (x == 5 is True, so not makes it False)\n",
        "Summary:\n",
        "and: All conditions must be true for the result to be true.\n",
        "or: At least one condition must be true for the result to be true.\n",
        "not: Reverses the boolean value of the condition.\n"
      ],
      "metadata": {
        "id": "T4TRVqph7Cd0"
      }
    },
    {
      "cell_type": "markdown",
      "source": [
        "**9**. What is type casting in Python?\n",
        "\n",
        "\n",
        "Ans: Type casting in Python refers to the process of converting one data type into another. Python provides two types of type casting:\n",
        "\n",
        "1. Implicit Type Casting (Type Coercion):\n",
        "What happens: Python automatically converts one data type to another when needed, without you having to do anything explicitly.\n",
        "When it occurs: This typically happens when you mix different data types in an operation, like adding an integer and a float.\n",
        "\n",
        "Example:\n",
        "\n",
        "x = 5       # int\n",
        "y = 3.2     # float\n",
        "result = x + y  # Implicit casting: int to float\n",
        "print(result)   # Output: 8.2\n",
        "In this case, Python automatically converts x (an integer) to a float before performing the addition because y is a float.\n",
        "2. Explicit Type Casting (Type Conversion):\n",
        "What happens: You manually convert a value from one data type to another using functions like int(), float(), str(), etc.\n",
        "When it occurs: You use this when you want to convert a value of one type to another type, which might not happen automatically (or might require more control).\n",
        "\n",
        "Example:\n",
        "\n",
        "x = \"123\"  # string\n",
        "y = int(x) # Explicit type casting: string to integer\n",
        "print(y)   # Output: 123\n",
        "Common Type Casting Functions:\n",
        "int(): Converts a value to an integer.\n",
        "float(): Converts a value to a float.\n",
        "str(): Converts a value to a string.\n",
        "bool(): Converts a value to a boolean (True or False).\n",
        "Example of Explicit Casting with Different Types:\n",
        "\n",
        "# Convert float to int (loses decimal part)\n",
        "x = 7.8\n",
        "y = int(x)  # y = 7\n",
        "print(y)\n",
        "\n",
        "# Convert int to string\n",
        "a = 123\n",
        "b = str(a)  # b = \"123\"\n",
        "print(b)\n",
        "\n",
        "# Convert string to float\n",
        "s = \"3.14\"\n",
        "f = float(s)  # f = 3.14\n",
        "print(f)\n",
        "In summary:\n",
        "\n",
        "Implicit casting is done automatically by Python.\n",
        "Explicit casting is when you manually convert one type to another using specific functions.\n",
        "\n",
        "\n",
        "\n"
      ],
      "metadata": {
        "id": "hbkQJcwZ7J3u"
      }
    },
    {
      "cell_type": "markdown",
      "source": [
        "10. What is the difference between implicit and explicit type casting?\n",
        "\n",
        "\n",
        "Ans: Implicit Type Casting (Type Coercion):\n",
        "\n",
        "This happens automatically by Python when you try to assign a value of one data type to a variable of another type.\n",
        "Python will automatically convert the value into the appropriate type without the programmer's intervention.\n",
        "\n",
        "Example:\n",
        "\n",
        "x = 5   # int\n",
        "y = 2.5  # float\n",
        "result = x + y  # x is implicitly cast to a float\n",
        "print(result)  # Output: 7.5\n",
        "Explicit Type Casting (Type Conversion):\n",
        "\n",
        "This occurs when the programmer manually converts one data type into another using functions like int(), float(), str(), etc.\n",
        "\n",
        "Example:\n",
        "\n",
        "x = \"123\"  # string\n",
        "y = int(x)  # explicitly convert string to integer\n",
        "print(y)  # Output: 123"
      ],
      "metadata": {
        "id": "PJMNFeyb7NEX"
      }
    },
    {
      "cell_type": "markdown",
      "source": [
        "11. What is the purpose of conditional statements in Python?\n",
        "\n",
        "Ans: Conditional statements allow the program to make decisions based on specific conditions. The purpose is to execute certain blocks of code based on whether a condition is true or false. This helps control the flow of the program and make it more dynamic.\n",
        "\n",
        "Example:\n",
        "\n",
        "\n",
        "x = 10\n",
        "if x > 5:\n",
        "    print(\"x is greater than 5\")\n",
        "else:\n",
        "    print(\"x is less than or equal to 5\")\n"
      ],
      "metadata": {
        "id": "8YdJxbwr7SNr"
      }
    },
    {
      "cell_type": "markdown",
      "source": [
        "12. How does the elif statement work?\n",
        "\n",
        "Ans:The elif (short for \"else if\") statement allows you to check multiple conditions. It is used when you have several conditions to evaluate, and it provides a way to avoid nesting multiple if statements.\n",
        "\n",
        "The if condition is checked first, and if it's false, the elif condition is checked.\n",
        "If the elif condition is true, that block of code runs; otherwise, the program continues checking additional elif (or else) blocks.\n",
        "\n",
        "Example:\n",
        "\n",
        "\n",
        "x = 10\n",
        "if x > 20:\n",
        "    print(\"x is greater than 20\")\n",
        "elif x > 5:\n",
        "    print(\"x is greater than 5 but less than or equal to 20\")\n",
        "else:\n",
        "    print(\"x is 5 or less\")\n",
        "Output: x is greater than 5 but less than or equal to 20"
      ],
      "metadata": {
        "id": "wgKvVoqg7X6G"
      }
    },
    {
      "cell_type": "markdown",
      "source": [
        "13. What is the difference between for and while loops?\n",
        "\n",
        "Ans: for loop:\n",
        "\n",
        "Used when the number of iterations is known beforehand or when iterating over a sequence (list, tuple, string, etc.).\n",
        "It automatically handles iteration, making it easier to use when you have a collection to work with.\n",
        "\n",
        "Example:\n",
        "\n",
        "for i in range(5):\n",
        "    print(i)\n",
        "while loop:\n",
        "\n",
        "Used when the number of iterations is not known, and the loop should continue as long as a condition is true.\n",
        "It’s typically used for more flexible loops where the condition might change during the loop.\n",
        "\n",
        "Example:\n",
        "\n",
        "i = 0\n",
        "while i < 5:\n",
        "    print(i)\n",
        "    i += 1\n"
      ],
      "metadata": {
        "id": "fq1fmtcS7hjQ"
      }
    },
    {
      "cell_type": "markdown",
      "source": [
        "14. Describe a scenario where a while loop is more suitable than a for loop?\n",
        "\n",
        "\n",
        "Ans: A while loop is more suitable when you do not know in advance how many times you will need to iterate, and the termination condition is based on something that changes during the execution of the loop.\n",
        "\n",
        "Example scenario:\n",
        "\n",
        " You are reading data from a sensor, and you want to continue processing data until the sensor indicates that it has stopped. Here, the number of iterations is unknown, and the loop will continue as long as the sensor is active.\n",
        "\n",
        "\n",
        "sensor_active = True\n",
        "while sensor_active:\n",
        "    data = read_sensor_data()\n",
        "    if data == \"stop\":\n",
        "        sensor_active = False\n",
        "    process(data)\n",
        "In this case, a while loop is ideal because the number of readings is not predetermined.\n",
        "\n",
        "\n"
      ],
      "metadata": {
        "id": "W7nckp677mKJ"
      }
    },
    {
      "cell_type": "markdown",
      "source": [
        " * Pythone Basic Practial"
      ],
      "metadata": {
        "id": "p9WKvNtl1t24"
      }
    },
    {
      "cell_type": "code",
      "source": [
        " # 1. Write a Python program to print \"Hello, World!?\n",
        "\n",
        "print(\"Hello,World!\")\n"
      ],
      "metadata": {
        "colab": {
          "base_uri": "https://localhost:8080/"
        },
        "id": "laTBrlSL2CxD",
        "outputId": "a610b4b6-04eb-4e28-b0cb-f277b0d0086a"
      },
      "execution_count": 53,
      "outputs": [
        {
          "output_type": "stream",
          "name": "stdout",
          "text": [
            "Hello,World!\n"
          ]
        }
      ]
    },
    {
      "cell_type": "code",
      "source": [
        "# 2. Write a Python program that displays your name and age?\n",
        "\n",
        "name= \"Hashim\"\n",
        "age= 22\n",
        "\n",
        "print(f\"Name: {name}, Age: {age}\")\n"
      ],
      "metadata": {
        "colab": {
          "base_uri": "https://localhost:8080/"
        },
        "id": "ntJ-5n9L4Vet",
        "outputId": "74055728-2f73-454a-c6ec-84e8ef4490eb"
      },
      "execution_count": 54,
      "outputs": [
        {
          "output_type": "stream",
          "name": "stdout",
          "text": [
            "Name: Hashim, Age: 22\n"
          ]
        }
      ]
    },
    {
      "cell_type": "code",
      "source": [
        "# 3. Write code to print all the pre-defined keywords in Python using the\n",
        "# keyword library?\n",
        "import keyword\n",
        "print(keyword.kwlist)"
      ],
      "metadata": {
        "colab": {
          "base_uri": "https://localhost:8080/"
        },
        "id": "kQcDvKGk4W2_",
        "outputId": "c8ad42ac-b6e1-452c-d89b-138eff3416c6"
      },
      "execution_count": 55,
      "outputs": [
        {
          "output_type": "stream",
          "name": "stdout",
          "text": [
            "['False', 'None', 'True', 'and', 'as', 'assert', 'async', 'await', 'break', 'class', 'continue', 'def', 'del', 'elif', 'else', 'except', 'finally', 'for', 'from', 'global', 'if', 'import', 'in', 'is', 'lambda', 'nonlocal', 'not', 'or', 'pass', 'raise', 'return', 'try', 'while', 'with', 'yield']\n"
          ]
        }
      ]
    },
    {
      "cell_type": "code",
      "source": [
        "# 4. Write a program that checks if a given word is a Python keyword?\n",
        "\n",
        "import keyword\n",
        "\n",
        "word = input(\"enter a word : \")\n",
        "if keyword.iskeyword(word):\n",
        "  print(f\"{word} is a python keyword.\")\n",
        "else:\n",
        "  print(f\"{word} is not a python keyword.\")"
      ],
      "metadata": {
        "colab": {
          "base_uri": "https://localhost:8080/"
        },
        "id": "5N7lHvrw4Wzl",
        "outputId": "0586c997-4e9a-46ee-86db-571339c45fcc"
      },
      "execution_count": 56,
      "outputs": [
        {
          "output_type": "stream",
          "name": "stdout",
          "text": [
            "enter a word : False\n",
            "False is a python keyword.\n"
          ]
        }
      ]
    },
    {
      "cell_type": "code",
      "source": [
        "# 5.Create a list and tuple in Python, and demonstrate how attempting to change\n",
        "# an element works differently for each?\n",
        "\n",
        "\n",
        "\n",
        "\n",
        "\n",
        "# Creating a list and a tuple\n",
        "my_list = [1, 2, 3, 4]\n",
        "my_tuple = (1, 2, 3, 4)\n",
        "\n",
        "# Attempting to modify an element in both\n",
        "try:\n",
        "    my_list[0] = 10  # This will work\n",
        "    print(\"List after modification:\", my_list)\n",
        "except TypeError:\n",
        "    print(\"Cannot modify tuple.\")\n",
        "\n",
        "try:\n",
        "    my_tuple[0] = 10  # This will raise an error\n",
        "    print(\"Tuple after modification:\", my_tuple)\n",
        "except TypeError:\n",
        "    print(\"Cannot modify tuple.\")\n"
      ],
      "metadata": {
        "colab": {
          "base_uri": "https://localhost:8080/"
        },
        "id": "xMSe8kH1aKzU",
        "outputId": "c6eea7ac-c88c-4219-d141-1f7344f35d16"
      },
      "execution_count": 58,
      "outputs": [
        {
          "output_type": "stream",
          "name": "stdout",
          "text": [
            "List after modification: [10, 2, 3, 4]\n",
            "Cannot modify tuple.\n"
          ]
        }
      ]
    },
    {
      "cell_type": "code",
      "source": [
        "# 6. Write a function to demonstrate the behavior of mutable and immutable\n",
        "# arguments?\n",
        "\n",
        "def mutable_immutable_example(mutable_arg, immutable_arg):\n",
        "    print(\"Before modification:\")\n",
        "    print(f\"Mutable argument: {mutable_arg}\")\n",
        "    print(f\"Immutable argument: {immutable_arg}\")\n",
        "\n",
        "    # Modifying the mutable argument\n",
        "    mutable_arg.append(4)\n",
        "\n",
        "    # Modifying the immutable argument (which will cause an error)\n",
        "    try:\n",
        "        immutable_arg = immutable_arg + \" World\"\n",
        "    except Exception as e:\n",
        "        print(f\"Error modifying immutable argument: {e}\")\n",
        "\n",
        "    print(\"After modification:\")\n",
        "    print(f\"Mutable argument: {mutable_arg}\")\n",
        "    print(f\"Immutable argument: {immutable_arg}\")\n",
        "\n",
        "# Test with a mutable and immutable argument\n",
        "mutable_arg = [1, 2, 3]\n",
        "immutable_arg = \"Hello\"\n",
        "mutable_immutable_example(mutable_arg, immutable_arg)\n"
      ],
      "metadata": {
        "colab": {
          "base_uri": "https://localhost:8080/"
        },
        "id": "mLxhjpOd4Wrv",
        "outputId": "0501f996-81d3-4942-f31c-84cb2370ae8f"
      },
      "execution_count": 59,
      "outputs": [
        {
          "output_type": "stream",
          "name": "stdout",
          "text": [
            "Before modification:\n",
            "Mutable argument: [1, 2, 3]\n",
            "Immutable argument: Hello\n",
            "After modification:\n",
            "Mutable argument: [1, 2, 3, 4]\n",
            "Immutable argument: Hello World\n"
          ]
        }
      ]
    },
    {
      "cell_type": "code",
      "source": [
        "# 7. Write a function to demonstrate the behavior of mutable and immutable\n",
        "# arguments?\n",
        "\n",
        "\n",
        "def mutable_immutable_example(mutable_arg, immutable_arg):\n",
        "    print(\"Before modification:\")\n",
        "    print(f\"Mutable argument: {mutable_arg}\")\n",
        "    print(f\"Immutable argument: {immutable_arg}\")\n",
        "\n",
        "    # Modifying the mutable argument\n",
        "    mutable_arg.append(4)\n",
        "\n",
        "    # Modifying the immutable argument (which will cause an error)\n",
        "    try:\n",
        "        immutable_arg = immutable_arg + \" World\"\n",
        "    except Exception as e:\n",
        "        print(f\"Error modifying immutable argument: {e}\")\n",
        "\n",
        "    print(\"After modification:\")\n",
        "    print(f\"Mutable argument: {mutable_arg}\")\n",
        "    print(f\"Immutable argument: {immutable_arg}\")\n",
        "\n",
        "# Test with a mutable and immutable argument\n",
        "mutable_arg = [1, 2, 3]\n",
        "immutable_arg = \"Hello\"\n",
        "mutable_immutable_example(mutable_arg, immutable_arg)\n",
        "\n",
        "\n"
      ],
      "metadata": {
        "colab": {
          "base_uri": "https://localhost:8080/"
        },
        "id": "hJHV5ZXD4Wnn",
        "outputId": "0bf46788-ae9f-4e8e-e44c-ae61a47d2757"
      },
      "execution_count": 60,
      "outputs": [
        {
          "output_type": "stream",
          "name": "stdout",
          "text": [
            "Before modification:\n",
            "Mutable argument: [1, 2, 3]\n",
            "Immutable argument: Hello\n",
            "After modification:\n",
            "Mutable argument: [1, 2, 3, 4]\n",
            "Immutable argument: Hello World\n"
          ]
        }
      ]
    },
    {
      "cell_type": "code",
      "source": [
        "# 8. Write a program to demonstrate the use of logical operators?\n",
        "\n",
        "\n",
        "a = True\n",
        "b = False\n",
        "\n",
        "print(\"AND operator:\", a and b)  # False\n",
        "print(\"OR operator:\", a or b)    # True\n",
        "print(\"NOT operator:\", not a)   # False\n",
        "\n"
      ],
      "metadata": {
        "colab": {
          "base_uri": "https://localhost:8080/"
        },
        "id": "8fLFrj3J4Whc",
        "outputId": "a72d5025-0f31-4795-ae14-8048fd6d8d73"
      },
      "execution_count": 61,
      "outputs": [
        {
          "output_type": "stream",
          "name": "stdout",
          "text": [
            "AND operator: False\n",
            "OR operator: True\n",
            "NOT operator: False\n"
          ]
        }
      ]
    },
    {
      "cell_type": "code",
      "source": [
        "# 9. Write a Python program to convert user input from string to integer, float,\n",
        "# and boolean types?\n",
        "\n",
        "\n",
        "user_input = input(\"Enter a value: \")\n",
        "\n",
        "# Convert to integer, float, and boolean\n",
        "try:\n",
        "    integer_value = int(user_input)\n",
        "    print(f\"Integer: {integer_value}\")\n",
        "except ValueError:\n",
        "    print(\"Input is not an integer.\")\n",
        "\n",
        "try:\n",
        "    float_value = float(user_input)\n",
        "    print(f\"Float: {float_value}\")\n",
        "except ValueError:\n",
        "    print(\"Input is not a float.\")\n",
        "\n",
        "# Convert to boolean\n",
        "boolean_value = bool(user_input)\n",
        "print(f\"Boolean: {boolean_value}\")\n"
      ],
      "metadata": {
        "colab": {
          "base_uri": "https://localhost:8080/"
        },
        "id": "UI6s75V-4WeA",
        "outputId": "54d9c1fa-bed3-479a-ca58-2a94413d1833"
      },
      "execution_count": 63,
      "outputs": [
        {
          "output_type": "stream",
          "name": "stdout",
          "text": [
            "Enter a value: -65\n",
            "Integer: -65\n",
            "Float: -65.0\n",
            "Boolean: True\n"
          ]
        }
      ]
    },
    {
      "cell_type": "code",
      "source": [
        "# 10.  Write code to demonstrate type casting with list elements?\n",
        "\n",
        "# List with mixed types\n",
        "my_list = [1, '2', 3.0, '4.5']\n",
        "\n",
        "# Type casting: converting all elements to integers\n",
        "casted_list = [int(float(x)) if isinstance(x, str) else int(x) for x in my_list]\n",
        "print(\"Casted List:\", casted_list)\n",
        "\n"
      ],
      "metadata": {
        "colab": {
          "base_uri": "https://localhost:8080/"
        },
        "id": "OqCGM_AJ4WaF",
        "outputId": "e36cdffa-f236-4b80-b9f1-e8c0dd313661"
      },
      "execution_count": 64,
      "outputs": [
        {
          "output_type": "stream",
          "name": "stdout",
          "text": [
            "Casted List: [1, 2, 3, 4]\n"
          ]
        }
      ]
    },
    {
      "cell_type": "code",
      "source": [
        "# 11.  Write a program that checks if a number is positive, negative, or zero?\n",
        "\n",
        "\n",
        "number = float(input(\"Enter a number: \"))\n",
        "\n",
        "if number > 0:\n",
        "    print(\"The number is positive.\")\n",
        "elif number < 0:\n",
        "    print(\"The number is negative.\")\n",
        "else:\n",
        "    print(\"The number is zero.\")\n"
      ],
      "metadata": {
        "colab": {
          "base_uri": "https://localhost:8080/"
        },
        "id": "cmMmDQbY4WVc",
        "outputId": "03cdff87-fb3a-41f4-85d7-bc5987f47134"
      },
      "execution_count": 65,
      "outputs": [
        {
          "output_type": "stream",
          "name": "stdout",
          "text": [
            "Enter a number: 17\n",
            "The number is positive.\n"
          ]
        }
      ]
    },
    {
      "cell_type": "code",
      "source": [
        " #12.   Write a for loop to print numbers from 1 to 100?\n",
        "\n",
        "for i in range(1, 101):\n",
        "  print(i)"
      ],
      "metadata": {
        "colab": {
          "base_uri": "https://localhost:8080/"
        },
        "id": "BxgMj_W9LvDe",
        "outputId": "ab10875d-bb4f-4a13-a1e4-13b3982a9476"
      },
      "execution_count": 38,
      "outputs": [
        {
          "output_type": "stream",
          "name": "stdout",
          "text": [
            "1\n",
            "2\n",
            "3\n",
            "4\n",
            "5\n",
            "6\n",
            "7\n",
            "8\n",
            "9\n",
            "10\n",
            "11\n",
            "12\n",
            "13\n",
            "14\n",
            "15\n",
            "16\n",
            "17\n",
            "18\n",
            "19\n",
            "20\n",
            "21\n",
            "22\n",
            "23\n",
            "24\n",
            "25\n",
            "26\n",
            "27\n",
            "28\n",
            "29\n",
            "30\n",
            "31\n",
            "32\n",
            "33\n",
            "34\n",
            "35\n",
            "36\n",
            "37\n",
            "38\n",
            "39\n",
            "40\n",
            "41\n",
            "42\n",
            "43\n",
            "44\n",
            "45\n",
            "46\n",
            "47\n",
            "48\n",
            "49\n",
            "50\n",
            "51\n",
            "52\n",
            "53\n",
            "54\n",
            "55\n",
            "56\n",
            "57\n",
            "58\n",
            "59\n",
            "60\n",
            "61\n",
            "62\n",
            "63\n",
            "64\n",
            "65\n",
            "66\n",
            "67\n",
            "68\n",
            "69\n",
            "70\n",
            "71\n",
            "72\n",
            "73\n",
            "74\n",
            "75\n",
            "76\n",
            "77\n",
            "78\n",
            "79\n",
            "80\n",
            "81\n",
            "82\n",
            "83\n",
            "84\n",
            "85\n",
            "86\n",
            "87\n",
            "88\n",
            "89\n",
            "90\n",
            "91\n",
            "92\n",
            "93\n",
            "94\n",
            "95\n",
            "96\n",
            "97\n",
            "98\n",
            "99\n",
            "100\n"
          ]
        }
      ]
    },
    {
      "cell_type": "code",
      "source": [
        "# 13. Write a Python program to find the sum of all even numbers between 1 and\n",
        "# 500?\n",
        "\n",
        "sum_of_evens = sum(i for i in range(1, 501) if i % 2 == 0)\n",
        "print(f\"Sum of all even numbers between 1 and 500: {sum_of_evens}\")\n",
        "\n"
      ],
      "metadata": {
        "colab": {
          "base_uri": "https://localhost:8080/"
        },
        "id": "uQLCu_JF4WNH",
        "outputId": "ef23699a-14a2-4d0e-9ee5-b27aa94121a7"
      },
      "execution_count": 47,
      "outputs": [
        {
          "output_type": "stream",
          "name": "stdout",
          "text": [
            "Sum of all even numbers between 1 and 500: 62750\n"
          ]
        }
      ]
    },
    {
      "cell_type": "code",
      "source": [
        "# 14.Write a program to reverse a string using a while loop?\n",
        "\n",
        "input_string = input(\"Enter a string: \")\n",
        "reversed_string = \"\"\n",
        "index = len(input_string) - 1\n",
        "\n",
        "while index >= 0:\n",
        "    reversed_string += input_string[index]\n",
        "    index -= 1\n",
        "\n",
        "print(\"Reversed String:\", reversed_string)\n"
      ],
      "metadata": {
        "colab": {
          "base_uri": "https://localhost:8080/"
        },
        "id": "wF_Xo5Ug4WJH",
        "outputId": "3df2c375-c673-4ef9-83d2-73a649e6fcb1"
      },
      "execution_count": 49,
      "outputs": [
        {
          "output_type": "stream",
          "name": "stdout",
          "text": [
            "Enter a string: hashim\n",
            "Reversed String: mihsah\n"
          ]
        }
      ]
    },
    {
      "cell_type": "code",
      "source": [
        "# 15.  Write a Python program to calculate the factorial of a number provided\n",
        "# by the user using a while loop?\n",
        "\n",
        "\n",
        "number = int(input(\"Enter a number: \"))\n",
        "factorial = 1\n",
        "\n",
        "while number > 0:\n",
        "    factorial *= number\n",
        "    number -= 1\n",
        "\n",
        "print(f\"The factorial is: {factorial}\")\n",
        "\n"
      ],
      "metadata": {
        "colab": {
          "base_uri": "https://localhost:8080/"
        },
        "id": "vD38cWl05Jiy",
        "outputId": "39057072-5a46-429f-b98e-e410be3d529f"
      },
      "execution_count": 52,
      "outputs": [
        {
          "output_type": "stream",
          "name": "stdout",
          "text": [
            "Enter a number: 65\n",
            "The factorial is: 8247650592082470666723170306785496252186258551345437492922123134388955774976000000000000000\n"
          ]
        }
      ]
    }
  ]
}